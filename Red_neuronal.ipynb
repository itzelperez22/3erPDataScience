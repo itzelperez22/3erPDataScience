{
  "cells": [
    {
      "cell_type": "markdown",
      "metadata": {
        "id": "view-in-github",
        "colab_type": "text"
      },
      "source": [
        "<a href=\"https://colab.research.google.com/github/itzelperez22/3erPDataScience/blob/main/Red_neuronal.ipynb\" target=\"_parent\"><img src=\"https://colab.research.google.com/assets/colab-badge.svg\" alt=\"Open In Colab\"/></a>"
      ]
    },
    {
      "cell_type": "code",
      "execution_count": null,
      "metadata": {
        "id": "kf_Z6VPft3M9"
      },
      "outputs": [],
      "source": [
        "import numpy as np\n",
        "\n",
        "def generate_time_series(batch_size, n_steps):\n",
        "    freq1, freq2, offsets1, offsets2 = np.random.rand(4, batch_size, 1)\n",
        "    time = np.linspace(0, 1, n_steps)\n",
        "    series = 0.5 * np.sin((time - offsets1) * (freq1 * 10 + 10))\n",
        "    series += 0.2 * np.sin((time - offsets2) * (freq2 * 20 + 20))\n",
        "    series += 0.1 * (np.random.rand(batch_size, n_steps) - 0.5)\n",
        "    return series[..., np.newaxis].astype(np.float32)"
      ]
    },
    {
      "cell_type": "code",
      "source": [
        "n_steps = 50\n",
        "series = generate_time_series(10000, n_steps + 1)\n",
        "X_train, y_train = series[:7000, :n_steps], series[:7000, -1]\n",
        "X_valid, y_valid = series[7000:9000, :n_steps], series[7000:9000, -1]\n",
        "X_test, y_test = series[9000:, :n_steps], series[9000:, -1]"
      ],
      "metadata": {
        "id": "Ql-F8NgitLZe"
      },
      "execution_count": null,
      "outputs": []
    },
    {
      "cell_type": "code",
      "execution_count": null,
      "metadata": {
        "colab": {
          "base_uri": "https://localhost:8080/"
        },
        "id": "CHfheDv_vf3o",
        "outputId": "d1383d8f-2536-4853-eaff-3647bdb36c02"
      },
      "outputs": [
        {
          "output_type": "execute_result",
          "data": {
            "text/plain": [
              "0.021071153"
            ]
          },
          "metadata": {},
          "execution_count": 31
        }
      ],
      "source": [
        "from tensorflow import keras\n",
        "\n",
        "y_pred = X_valid[:, -1]\n",
        "np.mean(keras.losses.MeanSquaredError()(y_valid, y_pred))\n"
      ]
    },
    {
      "cell_type": "code",
      "execution_count": null,
      "metadata": {
        "colab": {
          "base_uri": "https://localhost:8080/"
        },
        "id": "ZLHIoyUkypSG",
        "outputId": "287e9cdd-3144-420a-eaff-04b9403a6656"
      },
      "outputs": [
        {
          "output_type": "stream",
          "name": "stderr",
          "text": [
            "/usr/local/lib/python3.10/dist-packages/keras/src/layers/reshaping/flatten.py:37: UserWarning: Do not pass an `input_shape`/`input_dim` argument to a layer. When using Sequential models, prefer using an `Input(shape)` object as the first layer in the model instead.\n",
            "  super().__init__(**kwargs)\n"
          ]
        }
      ],
      "source": [
        "model = keras.models.Sequential([\n",
        "    keras.layers.Flatten(input_shape=[50, 1]),\n",
        "    keras.layers.Dense(1)\n",
        "])\n"
      ]
    },
    {
      "cell_type": "code",
      "execution_count": null,
      "metadata": {
        "id": "8evx58-ZyrzZ"
      },
      "outputs": [],
      "source": [
        "model.compile(loss=\"mse\", optimizer=\"Adam\")"
      ]
    },
    {
      "cell_type": "code",
      "execution_count": null,
      "metadata": {
        "colab": {
          "base_uri": "https://localhost:8080/"
        },
        "id": "lEvsx2CDyuGp",
        "outputId": "bd84107d-1319-4724-a6e9-8af5df95abf6"
      },
      "outputs": [
        {
          "output_type": "stream",
          "name": "stdout",
          "text": [
            "Epoch 1/20\n",
            "\u001b[1m219/219\u001b[0m \u001b[32m━━━━━━━━━━━━━━━━━━━━\u001b[0m\u001b[37m\u001b[0m \u001b[1m1s\u001b[0m 3ms/step - loss: 0.0000e+00 - mse: 0.1872 - val_loss: 0.0000e+00 - val_mse: 0.1917\n",
            "Epoch 2/20\n",
            "\u001b[1m219/219\u001b[0m \u001b[32m━━━━━━━━━━━━━━━━━━━━\u001b[0m\u001b[37m\u001b[0m \u001b[1m0s\u001b[0m 2ms/step - loss: 0.0000e+00 - mse: 0.1869 - val_loss: 0.0000e+00 - val_mse: 0.1917\n",
            "Epoch 3/20\n",
            "\u001b[1m219/219\u001b[0m \u001b[32m━━━━━━━━━━━━━━━━━━━━\u001b[0m\u001b[37m\u001b[0m \u001b[1m1s\u001b[0m 2ms/step - loss: 0.0000e+00 - mse: 0.1923 - val_loss: 0.0000e+00 - val_mse: 0.1917\n",
            "Epoch 4/20\n",
            "\u001b[1m219/219\u001b[0m \u001b[32m━━━━━━━━━━━━━━━━━━━━\u001b[0m\u001b[37m\u001b[0m \u001b[1m1s\u001b[0m 2ms/step - loss: 0.0000e+00 - mse: 0.1837 - val_loss: 0.0000e+00 - val_mse: 0.1917\n",
            "Epoch 5/20\n",
            "\u001b[1m219/219\u001b[0m \u001b[32m━━━━━━━━━━━━━━━━━━━━\u001b[0m\u001b[37m\u001b[0m \u001b[1m1s\u001b[0m 2ms/step - loss: 0.0000e+00 - mse: 0.1815 - val_loss: 0.0000e+00 - val_mse: 0.1917\n",
            "Epoch 6/20\n",
            "\u001b[1m219/219\u001b[0m \u001b[32m━━━━━━━━━━━━━━━━━━━━\u001b[0m\u001b[37m\u001b[0m \u001b[1m1s\u001b[0m 2ms/step - loss: 0.0000e+00 - mse: 0.1878 - val_loss: 0.0000e+00 - val_mse: 0.1917\n",
            "Epoch 7/20\n",
            "\u001b[1m219/219\u001b[0m \u001b[32m━━━━━━━━━━━━━━━━━━━━\u001b[0m\u001b[37m\u001b[0m \u001b[1m1s\u001b[0m 2ms/step - loss: 0.0000e+00 - mse: 0.1902 - val_loss: 0.0000e+00 - val_mse: 0.1917\n",
            "Epoch 8/20\n",
            "\u001b[1m219/219\u001b[0m \u001b[32m━━━━━━━━━━━━━━━━━━━━\u001b[0m\u001b[37m\u001b[0m \u001b[1m1s\u001b[0m 2ms/step - loss: 0.0000e+00 - mse: 0.1860 - val_loss: 0.0000e+00 - val_mse: 0.1917\n",
            "Epoch 9/20\n",
            "\u001b[1m219/219\u001b[0m \u001b[32m━━━━━━━━━━━━━━━━━━━━\u001b[0m\u001b[37m\u001b[0m \u001b[1m1s\u001b[0m 2ms/step - loss: 0.0000e+00 - mse: 0.1919 - val_loss: 0.0000e+00 - val_mse: 0.1917\n",
            "Epoch 10/20\n",
            "\u001b[1m219/219\u001b[0m \u001b[32m━━━━━━━━━━━━━━━━━━━━\u001b[0m\u001b[37m\u001b[0m \u001b[1m1s\u001b[0m 2ms/step - loss: 0.0000e+00 - mse: 0.1870 - val_loss: 0.0000e+00 - val_mse: 0.1917\n",
            "Epoch 11/20\n",
            "\u001b[1m219/219\u001b[0m \u001b[32m━━━━━━━━━━━━━━━━━━━━\u001b[0m\u001b[37m\u001b[0m \u001b[1m1s\u001b[0m 2ms/step - loss: 0.0000e+00 - mse: 0.1869 - val_loss: 0.0000e+00 - val_mse: 0.1917\n",
            "Epoch 12/20\n",
            "\u001b[1m219/219\u001b[0m \u001b[32m━━━━━━━━━━━━━━━━━━━━\u001b[0m\u001b[37m\u001b[0m \u001b[1m1s\u001b[0m 3ms/step - loss: 0.0000e+00 - mse: 0.1864 - val_loss: 0.0000e+00 - val_mse: 0.1917\n",
            "Epoch 13/20\n",
            "\u001b[1m219/219\u001b[0m \u001b[32m━━━━━━━━━━━━━━━━━━━━\u001b[0m\u001b[37m\u001b[0m \u001b[1m1s\u001b[0m 3ms/step - loss: 0.0000e+00 - mse: 0.1884 - val_loss: 0.0000e+00 - val_mse: 0.1917\n",
            "Epoch 14/20\n",
            "\u001b[1m219/219\u001b[0m \u001b[32m━━━━━━━━━━━━━━━━━━━━\u001b[0m\u001b[37m\u001b[0m \u001b[1m1s\u001b[0m 3ms/step - loss: 0.0000e+00 - mse: 0.1906 - val_loss: 0.0000e+00 - val_mse: 0.1917\n",
            "Epoch 15/20\n",
            "\u001b[1m219/219\u001b[0m \u001b[32m━━━━━━━━━━━━━━━━━━━━\u001b[0m\u001b[37m\u001b[0m \u001b[1m1s\u001b[0m 2ms/step - loss: 0.0000e+00 - mse: 0.1856 - val_loss: 0.0000e+00 - val_mse: 0.1917\n",
            "Epoch 16/20\n",
            "\u001b[1m219/219\u001b[0m \u001b[32m━━━━━━━━━━━━━━━━━━━━\u001b[0m\u001b[37m\u001b[0m \u001b[1m0s\u001b[0m 2ms/step - loss: 0.0000e+00 - mse: 0.1882 - val_loss: 0.0000e+00 - val_mse: 0.1917\n",
            "Epoch 17/20\n",
            "\u001b[1m219/219\u001b[0m \u001b[32m━━━━━━━━━━━━━━━━━━━━\u001b[0m\u001b[37m\u001b[0m \u001b[1m1s\u001b[0m 2ms/step - loss: 0.0000e+00 - mse: 0.1801 - val_loss: 0.0000e+00 - val_mse: 0.1917\n",
            "Epoch 18/20\n",
            "\u001b[1m219/219\u001b[0m \u001b[32m━━━━━━━━━━━━━━━━━━━━\u001b[0m\u001b[37m\u001b[0m \u001b[1m1s\u001b[0m 2ms/step - loss: 0.0000e+00 - mse: 0.1883 - val_loss: 0.0000e+00 - val_mse: 0.1917\n",
            "Epoch 19/20\n",
            "\u001b[1m219/219\u001b[0m \u001b[32m━━━━━━━━━━━━━━━━━━━━\u001b[0m\u001b[37m\u001b[0m \u001b[1m1s\u001b[0m 2ms/step - loss: 0.0000e+00 - mse: 0.1849 - val_loss: 0.0000e+00 - val_mse: 0.1917\n",
            "Epoch 20/20\n",
            "\u001b[1m219/219\u001b[0m \u001b[32m━━━━━━━━━━━━━━━━━━━━\u001b[0m\u001b[37m\u001b[0m \u001b[1m1s\u001b[0m 2ms/step - loss: 0.0000e+00 - mse: 0.1846 - val_loss: 0.0000e+00 - val_mse: 0.1917\n"
          ]
        }
      ],
      "source": [
        "history=model.fit(X_train,y_train,epochs=20,\n",
        "                  validation_data=(X_valid,y_valid))"
      ]
    },
    {
      "cell_type": "code",
      "execution_count": null,
      "metadata": {
        "colab": {
          "base_uri": "https://localhost:8080/"
        },
        "id": "x7PRzdemzbX3",
        "outputId": "1510be2f-699a-4fc2-a1f3-a8e70cff17fd"
      },
      "outputs": [
        {
          "name": "stderr",
          "output_type": "stream",
          "text": [
            "/usr/local/lib/python3.10/dist-packages/keras/src/layers/rnn/rnn.py:204: UserWarning: Do not pass an `input_shape`/`input_dim` argument to a layer. When using Sequential models, prefer using an `Input(shape)` object as the first layer in the model instead.\n",
            "  super().__init__(**kwargs)\n"
          ]
        }
      ],
      "source": [
        "model = keras.models.Sequential([\n",
        "    keras.layers.SimpleRNN(1, input_shape=[None, 1])\n",
        "])"
      ]
    },
    {
      "cell_type": "code",
      "execution_count": null,
      "metadata": {
        "id": "mG28WjTdzjqi"
      },
      "outputs": [],
      "source": [
        "model.compile(loss=\"mse\", optimizer=\"Adam\")"
      ]
    },
    {
      "cell_type": "code",
      "execution_count": null,
      "metadata": {
        "colab": {
          "base_uri": "https://localhost:8080/"
        },
        "id": "gTjnNxnlzmDg",
        "outputId": "9924808b-4134-4d97-ae87-a24f5e55c1ae"
      },
      "outputs": [
        {
          "name": "stdout",
          "output_type": "stream",
          "text": [
            "Epoch 1/20\n",
            "\u001b[1m219/219\u001b[0m \u001b[32m━━━━━━━━━━━━━━━━━━━━\u001b[0m\u001b[37m\u001b[0m \u001b[1m3s\u001b[0m 9ms/step - loss: 0.0000e+00 - mse: 0.4900 - val_loss: 0.0000e+00 - val_mse: 0.4700\n",
            "Epoch 2/20\n",
            "\u001b[1m219/219\u001b[0m \u001b[32m━━━━━━━━━━━━━━━━━━━━\u001b[0m\u001b[37m\u001b[0m \u001b[1m2s\u001b[0m 8ms/step - loss: 0.0000e+00 - mse: 0.4806 - val_loss: 0.0000e+00 - val_mse: 0.4700\n",
            "Epoch 3/20\n",
            "\u001b[1m219/219\u001b[0m \u001b[32m━━━━━━━━━━━━━━━━━━━━\u001b[0m\u001b[37m\u001b[0m \u001b[1m2s\u001b[0m 8ms/step - loss: 0.0000e+00 - mse: 0.4903 - val_loss: 0.0000e+00 - val_mse: 0.4700\n",
            "Epoch 4/20\n",
            "\u001b[1m219/219\u001b[0m \u001b[32m━━━━━━━━━━━━━━━━━━━━\u001b[0m\u001b[37m\u001b[0m \u001b[1m3s\u001b[0m 12ms/step - loss: 0.0000e+00 - mse: 0.4755 - val_loss: 0.0000e+00 - val_mse: 0.4700\n",
            "Epoch 5/20\n",
            "\u001b[1m219/219\u001b[0m \u001b[32m━━━━━━━━━━━━━━━━━━━━\u001b[0m\u001b[37m\u001b[0m \u001b[1m2s\u001b[0m 10ms/step - loss: 0.0000e+00 - mse: 0.4962 - val_loss: 0.0000e+00 - val_mse: 0.4700\n",
            "Epoch 6/20\n",
            "\u001b[1m219/219\u001b[0m \u001b[32m━━━━━━━━━━━━━━━━━━━━\u001b[0m\u001b[37m\u001b[0m \u001b[1m2s\u001b[0m 8ms/step - loss: 0.0000e+00 - mse: 0.4811 - val_loss: 0.0000e+00 - val_mse: 0.4700\n",
            "Epoch 7/20\n",
            "\u001b[1m219/219\u001b[0m \u001b[32m━━━━━━━━━━━━━━━━━━━━\u001b[0m\u001b[37m\u001b[0m \u001b[1m3s\u001b[0m 8ms/step - loss: 0.0000e+00 - mse: 0.4820 - val_loss: 0.0000e+00 - val_mse: 0.4700\n",
            "Epoch 8/20\n",
            "\u001b[1m219/219\u001b[0m \u001b[32m━━━━━━━━━━━━━━━━━━━━\u001b[0m\u001b[37m\u001b[0m \u001b[1m3s\u001b[0m 9ms/step - loss: 0.0000e+00 - mse: 0.4774 - val_loss: 0.0000e+00 - val_mse: 0.4700\n",
            "Epoch 9/20\n",
            "\u001b[1m219/219\u001b[0m \u001b[32m━━━━━━━━━━━━━━━━━━━━\u001b[0m\u001b[37m\u001b[0m \u001b[1m2s\u001b[0m 8ms/step - loss: 0.0000e+00 - mse: 0.4819 - val_loss: 0.0000e+00 - val_mse: 0.4700\n",
            "Epoch 10/20\n",
            "\u001b[1m219/219\u001b[0m \u001b[32m━━━━━━━━━━━━━━━━━━━━\u001b[0m\u001b[37m\u001b[0m \u001b[1m3s\u001b[0m 11ms/step - loss: 0.0000e+00 - mse: 0.4881 - val_loss: 0.0000e+00 - val_mse: 0.4700\n",
            "Epoch 11/20\n",
            "\u001b[1m219/219\u001b[0m \u001b[32m━━━━━━━━━━━━━━━━━━━━\u001b[0m\u001b[37m\u001b[0m \u001b[1m2s\u001b[0m 8ms/step - loss: 0.0000e+00 - mse: 0.4744 - val_loss: 0.0000e+00 - val_mse: 0.4700\n",
            "Epoch 12/20\n",
            "\u001b[1m219/219\u001b[0m \u001b[32m━━━━━━━━━━━━━━━━━━━━\u001b[0m\u001b[37m\u001b[0m \u001b[1m2s\u001b[0m 8ms/step - loss: 0.0000e+00 - mse: 0.4806 - val_loss: 0.0000e+00 - val_mse: 0.4700\n",
            "Epoch 13/20\n",
            "\u001b[1m219/219\u001b[0m \u001b[32m━━━━━━━━━━━━━━━━━━━━\u001b[0m\u001b[37m\u001b[0m \u001b[1m3s\u001b[0m 8ms/step - loss: 0.0000e+00 - mse: 0.4760 - val_loss: 0.0000e+00 - val_mse: 0.4700\n",
            "Epoch 14/20\n",
            "\u001b[1m219/219\u001b[0m \u001b[32m━━━━━━━━━━━━━━━━━━━━\u001b[0m\u001b[37m\u001b[0m \u001b[1m2s\u001b[0m 8ms/step - loss: 0.0000e+00 - mse: 0.4856 - val_loss: 0.0000e+00 - val_mse: 0.4700\n",
            "Epoch 15/20\n",
            "\u001b[1m219/219\u001b[0m \u001b[32m━━━━━━━━━━━━━━━━━━━━\u001b[0m\u001b[37m\u001b[0m \u001b[1m3s\u001b[0m 12ms/step - loss: 0.0000e+00 - mse: 0.4828 - val_loss: 0.0000e+00 - val_mse: 0.4700\n",
            "Epoch 16/20\n",
            "\u001b[1m219/219\u001b[0m \u001b[32m━━━━━━━━━━━━━━━━━━━━\u001b[0m\u001b[37m\u001b[0m \u001b[1m2s\u001b[0m 10ms/step - loss: 0.0000e+00 - mse: 0.4781 - val_loss: 0.0000e+00 - val_mse: 0.4700\n",
            "Epoch 17/20\n",
            "\u001b[1m219/219\u001b[0m \u001b[32m━━━━━━━━━━━━━━━━━━━━\u001b[0m\u001b[37m\u001b[0m \u001b[1m2s\u001b[0m 8ms/step - loss: 0.0000e+00 - mse: 0.4783 - val_loss: 0.0000e+00 - val_mse: 0.4700\n",
            "Epoch 18/20\n",
            "\u001b[1m219/219\u001b[0m \u001b[32m━━━━━━━━━━━━━━━━━━━━\u001b[0m\u001b[37m\u001b[0m \u001b[1m3s\u001b[0m 8ms/step - loss: 0.0000e+00 - mse: 0.4788 - val_loss: 0.0000e+00 - val_mse: 0.4700\n",
            "Epoch 19/20\n",
            "\u001b[1m219/219\u001b[0m \u001b[32m━━━━━━━━━━━━━━━━━━━━\u001b[0m\u001b[37m\u001b[0m \u001b[1m3s\u001b[0m 8ms/step - loss: 0.0000e+00 - mse: 0.4853 - val_loss: 0.0000e+00 - val_mse: 0.4700\n",
            "Epoch 20/20\n",
            "\u001b[1m219/219\u001b[0m \u001b[32m━━━━━━━━━━━━━━━━━━━━\u001b[0m\u001b[37m\u001b[0m \u001b[1m2s\u001b[0m 8ms/step - loss: 0.0000e+00 - mse: 0.4812 - val_loss: 0.0000e+00 - val_mse: 0.4700\n"
          ]
        }
      ],
      "source": [
        "history=model.fit(X_train,y_train,epochs=20,\n",
        "                  validation_data=(X_valid,y_valid))"
      ]
    },
    {
      "cell_type": "code",
      "execution_count": null,
      "metadata": {
        "id": "_6h6Eebez1cZ"
      },
      "outputs": [],
      "source": [
        "model = keras.models.Sequential([\n",
        "    keras.layers.SimpleRNN(20, return_sequences=True, input_shape=[None, 1]),\n",
        "    keras.layers.SimpleRNN(20, return_sequences=True),\n",
        "    keras.layers.SimpleRNN(1)\n",
        "])"
      ]
    },
    {
      "cell_type": "code",
      "execution_count": null,
      "metadata": {
        "id": "mKnSKqbq0Ktv"
      },
      "outputs": [],
      "source": [
        "model.compile(loss=\"mse\", optimizer=\"Adam\")"
      ]
    },
    {
      "cell_type": "code",
      "execution_count": null,
      "metadata": {
        "colab": {
          "base_uri": "https://localhost:8080/"
        },
        "id": "ZwOVcMzj0M8o",
        "outputId": "b94bd2db-3c6a-4fc2-ad61-98352422ce91"
      },
      "outputs": [
        {
          "name": "stdout",
          "output_type": "stream",
          "text": [
            "Epoch 1/20\n",
            "\u001b[1m219/219\u001b[0m \u001b[32m━━━━━━━━━━━━━━━━━━━━\u001b[0m\u001b[37m\u001b[0m \u001b[1m11s\u001b[0m 32ms/step - loss: 0.0000e+00 - mse: 0.3841 - val_loss: 0.0000e+00 - val_mse: 0.3654\n",
            "Epoch 2/20\n",
            "\u001b[1m219/219\u001b[0m \u001b[32m━━━━━━━━━━━━━━━━━━━━\u001b[0m\u001b[37m\u001b[0m \u001b[1m8s\u001b[0m 36ms/step - loss: 0.0000e+00 - mse: 0.3826 - val_loss: 0.0000e+00 - val_mse: 0.3654\n",
            "Epoch 3/20\n",
            "\u001b[1m219/219\u001b[0m \u001b[32m━━━━━━━━━━━━━━━━━━━━\u001b[0m\u001b[37m\u001b[0m \u001b[1m9s\u001b[0m 31ms/step - loss: 0.0000e+00 - mse: 0.3808 - val_loss: 0.0000e+00 - val_mse: 0.3654\n",
            "Epoch 4/20\n",
            "\u001b[1m219/219\u001b[0m \u001b[32m━━━━━━━━━━━━━━━━━━━━\u001b[0m\u001b[37m\u001b[0m \u001b[1m10s\u001b[0m 29ms/step - loss: 0.0000e+00 - mse: 0.3793 - val_loss: 0.0000e+00 - val_mse: 0.3654\n",
            "Epoch 5/20\n",
            "\u001b[1m219/219\u001b[0m \u001b[32m━━━━━━━━━━━━━━━━━━━━\u001b[0m\u001b[37m\u001b[0m \u001b[1m8s\u001b[0m 36ms/step - loss: 0.0000e+00 - mse: 0.3840 - val_loss: 0.0000e+00 - val_mse: 0.3654\n",
            "Epoch 6/20\n",
            "\u001b[1m219/219\u001b[0m \u001b[32m━━━━━━━━━━━━━━━━━━━━\u001b[0m\u001b[37m\u001b[0m \u001b[1m10s\u001b[0m 37ms/step - loss: 0.0000e+00 - mse: 0.3821 - val_loss: 0.0000e+00 - val_mse: 0.3654\n",
            "Epoch 7/20\n",
            "\u001b[1m219/219\u001b[0m \u001b[32m━━━━━━━━━━━━━━━━━━━━\u001b[0m\u001b[37m\u001b[0m \u001b[1m6s\u001b[0m 29ms/step - loss: 0.0000e+00 - mse: 0.3850 - val_loss: 0.0000e+00 - val_mse: 0.3654\n",
            "Epoch 8/20\n",
            "\u001b[1m219/219\u001b[0m \u001b[32m━━━━━━━━━━━━━━━━━━━━\u001b[0m\u001b[37m\u001b[0m \u001b[1m11s\u001b[0m 34ms/step - loss: 0.0000e+00 - mse: 0.3900 - val_loss: 0.0000e+00 - val_mse: 0.3654\n",
            "Epoch 9/20\n",
            "\u001b[1m219/219\u001b[0m \u001b[32m━━━━━━━━━━━━━━━━━━━━\u001b[0m\u001b[37m\u001b[0m \u001b[1m11s\u001b[0m 36ms/step - loss: 0.0000e+00 - mse: 0.3895 - val_loss: 0.0000e+00 - val_mse: 0.3654\n",
            "Epoch 10/20\n",
            "\u001b[1m219/219\u001b[0m \u001b[32m━━━━━━━━━━━━━━━━━━━━\u001b[0m\u001b[37m\u001b[0m \u001b[1m6s\u001b[0m 29ms/step - loss: 0.0000e+00 - mse: 0.3857 - val_loss: 0.0000e+00 - val_mse: 0.3654\n",
            "Epoch 11/20\n",
            "\u001b[1m219/219\u001b[0m \u001b[32m━━━━━━━━━━━━━━━━━━━━\u001b[0m\u001b[37m\u001b[0m \u001b[1m10s\u001b[0m 29ms/step - loss: 0.0000e+00 - mse: 0.3904 - val_loss: 0.0000e+00 - val_mse: 0.3654\n",
            "Epoch 12/20\n",
            "\u001b[1m219/219\u001b[0m \u001b[32m━━━━━━━━━━━━━━━━━━━━\u001b[0m\u001b[37m\u001b[0m \u001b[1m8s\u001b[0m 35ms/step - loss: 0.0000e+00 - mse: 0.3918 - val_loss: 0.0000e+00 - val_mse: 0.3654\n",
            "Epoch 13/20\n",
            "\u001b[1m219/219\u001b[0m \u001b[32m━━━━━━━━━━━━━━━━━━━━\u001b[0m\u001b[37m\u001b[0m \u001b[1m9s\u001b[0m 29ms/step - loss: 0.0000e+00 - mse: 0.3812 - val_loss: 0.0000e+00 - val_mse: 0.3654\n",
            "Epoch 14/20\n",
            "\u001b[1m219/219\u001b[0m \u001b[32m━━━━━━━━━━━━━━━━━━━━\u001b[0m\u001b[37m\u001b[0m \u001b[1m10s\u001b[0m 29ms/step - loss: 0.0000e+00 - mse: 0.3852 - val_loss: 0.0000e+00 - val_mse: 0.3654\n",
            "Epoch 15/20\n",
            "\u001b[1m219/219\u001b[0m \u001b[32m━━━━━━━━━━━━━━━━━━━━\u001b[0m\u001b[37m\u001b[0m \u001b[1m8s\u001b[0m 35ms/step - loss: 0.0000e+00 - mse: 0.3869 - val_loss: 0.0000e+00 - val_mse: 0.3654\n",
            "Epoch 16/20\n",
            "\u001b[1m219/219\u001b[0m \u001b[32m━━━━━━━━━━━━━━━━━━━━\u001b[0m\u001b[37m\u001b[0m \u001b[1m6s\u001b[0m 29ms/step - loss: 0.0000e+00 - mse: 0.3838 - val_loss: 0.0000e+00 - val_mse: 0.3654\n",
            "Epoch 17/20\n",
            "\u001b[1m219/219\u001b[0m \u001b[32m━━━━━━━━━━━━━━━━━━━━\u001b[0m\u001b[37m\u001b[0m \u001b[1m8s\u001b[0m 36ms/step - loss: 0.0000e+00 - mse: 0.3852 - val_loss: 0.0000e+00 - val_mse: 0.3654\n",
            "Epoch 18/20\n",
            "\u001b[1m219/219\u001b[0m \u001b[32m━━━━━━━━━━━━━━━━━━━━\u001b[0m\u001b[37m\u001b[0m \u001b[1m6s\u001b[0m 29ms/step - loss: 0.0000e+00 - mse: 0.3860 - val_loss: 0.0000e+00 - val_mse: 0.3654\n",
            "Epoch 19/20\n",
            "\u001b[1m219/219\u001b[0m \u001b[32m━━━━━━━━━━━━━━━━━━━━\u001b[0m\u001b[37m\u001b[0m \u001b[1m10s\u001b[0m 29ms/step - loss: 0.0000e+00 - mse: 0.3875 - val_loss: 0.0000e+00 - val_mse: 0.3654\n",
            "Epoch 20/20\n",
            "\u001b[1m219/219\u001b[0m \u001b[32m━━━━━━━━━━━━━━━━━━━━\u001b[0m\u001b[37m\u001b[0m \u001b[1m8s\u001b[0m 36ms/step - loss: 0.0000e+00 - mse: 0.3884 - val_loss: 0.0000e+00 - val_mse: 0.3654\n"
          ]
        }
      ],
      "source": [
        "history=model.fit(X_train,y_train,epochs=20,\n",
        "                  validation_data=(X_valid,y_valid))"
      ]
    },
    {
      "cell_type": "code",
      "execution_count": null,
      "metadata": {
        "id": "JO5mTprt09Q8"
      },
      "outputs": [],
      "source": [
        "model = keras.models.Sequential([\n",
        "    keras.layers.SimpleRNN(20, return_sequences=True, input_shape=[None, 1]),\n",
        "    keras.layers.SimpleRNN(20),\n",
        "    keras.layers.Dense(1, activation=\"sigmoid\")\n",
        "])"
      ]
    },
    {
      "cell_type": "code",
      "execution_count": null,
      "metadata": {
        "id": "cSwW9DxM1OzE"
      },
      "outputs": [],
      "source": [
        "model.compile(loss=\"mse\", optimizer=\"Adam\")"
      ]
    },
    {
      "cell_type": "code",
      "execution_count": null,
      "metadata": {
        "colab": {
          "background_save": true,
          "base_uri": "https://localhost:8080/"
        },
        "id": "DulGhNwv1Q0R",
        "outputId": "6acb9302-2dc8-4cdd-dbe6-a6e66be59876"
      },
      "outputs": [
        {
          "name": "stdout",
          "output_type": "stream",
          "text": [
            "Epoch 1/20\n",
            "\u001b[1m219/219\u001b[0m \u001b[32m━━━━━━━━━━━━━━━━━━━━\u001b[0m\u001b[37m\u001b[0m \u001b[1m7s\u001b[0m 21ms/step - loss: 0.0000e+00 - mse: 0.3044 - val_loss: 0.0000e+00 - val_mse: 0.3117\n",
            "Epoch 2/20\n",
            "\u001b[1m219/219\u001b[0m \u001b[32m━━━━━━━━━━━━━━━━━━━━\u001b[0m\u001b[37m\u001b[0m \u001b[1m6s\u001b[0m 27ms/step - loss: 0.0000e+00 - mse: 0.3063 - val_loss: 0.0000e+00 - val_mse: 0.3117\n",
            "Epoch 3/20\n",
            "\u001b[1m219/219\u001b[0m \u001b[32m━━━━━━━━━━━━━━━━━━━━\u001b[0m\u001b[37m\u001b[0m \u001b[1m9s\u001b[0m 20ms/step - loss: 0.0000e+00 - mse: 0.3030 - val_loss: 0.0000e+00 - val_mse: 0.3117\n",
            "Epoch 4/20\n",
            "\u001b[1m219/219\u001b[0m \u001b[32m━━━━━━━━━━━━━━━━━━━━\u001b[0m\u001b[37m\u001b[0m \u001b[1m6s\u001b[0m 26ms/step - loss: 0.0000e+00 - mse: 0.3054 - val_loss: 0.0000e+00 - val_mse: 0.3117\n",
            "Epoch 5/20\n",
            "\u001b[1m219/219\u001b[0m \u001b[32m━━━━━━━━━━━━━━━━━━━━\u001b[0m\u001b[37m\u001b[0m \u001b[1m4s\u001b[0m 20ms/step - loss: 0.0000e+00 - mse: 0.3071 - val_loss: 0.0000e+00 - val_mse: 0.3117\n",
            "Epoch 6/20\n",
            "\u001b[1m219/219\u001b[0m \u001b[32m━━━━━━━━━━━━━━━━━━━━\u001b[0m\u001b[37m\u001b[0m \u001b[1m7s\u001b[0m 27ms/step - loss: 0.0000e+00 - mse: 0.3007 - val_loss: 0.0000e+00 - val_mse: 0.3117\n",
            "Epoch 7/20\n",
            "\u001b[1m219/219\u001b[0m \u001b[32m━━━━━━━━━━━━━━━━━━━━\u001b[0m\u001b[37m\u001b[0m \u001b[1m4s\u001b[0m 20ms/step - loss: 0.0000e+00 - mse: 0.2986 - val_loss: 0.0000e+00 - val_mse: 0.3117\n",
            "Epoch 8/20\n",
            "\u001b[1m219/219\u001b[0m \u001b[32m━━━━━━━━━━━━━━━━━━━━\u001b[0m\u001b[37m\u001b[0m \u001b[1m5s\u001b[0m 20ms/step - loss: 0.0000e+00 - mse: 0.3122 - val_loss: 0.0000e+00 - val_mse: 0.3117\n",
            "Epoch 9/20\n",
            "\u001b[1m219/219\u001b[0m \u001b[32m━━━━━━━━━━━━━━━━━━━━\u001b[0m\u001b[37m\u001b[0m \u001b[1m6s\u001b[0m 26ms/step - loss: 0.0000e+00 - mse: 0.3060 - val_loss: 0.0000e+00 - val_mse: 0.3117\n",
            "Epoch 10/20\n",
            "\u001b[1m219/219\u001b[0m \u001b[32m━━━━━━━━━━━━━━━━━━━━\u001b[0m\u001b[37m\u001b[0m \u001b[1m10s\u001b[0m 26ms/step - loss: 0.0000e+00 - mse: 0.3069 - val_loss: 0.0000e+00 - val_mse: 0.3117\n",
            "Epoch 11/20\n",
            "\u001b[1m219/219\u001b[0m \u001b[32m━━━━━━━━━━━━━━━━━━━━\u001b[0m\u001b[37m\u001b[0m \u001b[1m9s\u001b[0m 20ms/step - loss: 0.0000e+00 - mse: 0.3081 - val_loss: 0.0000e+00 - val_mse: 0.3117\n",
            "Epoch 12/20\n",
            "\u001b[1m219/219\u001b[0m \u001b[32m━━━━━━━━━━━━━━━━━━━━\u001b[0m\u001b[37m\u001b[0m \u001b[1m6s\u001b[0m 28ms/step - loss: 0.0000e+00 - mse: 0.3059 - val_loss: 0.0000e+00 - val_mse: 0.3117\n",
            "Epoch 13/20\n",
            "\u001b[1m219/219\u001b[0m \u001b[32m━━━━━━━━━━━━━━━━━━━━\u001b[0m\u001b[37m\u001b[0m \u001b[1m9s\u001b[0m 20ms/step - loss: 0.0000e+00 - mse: 0.3046 - val_loss: 0.0000e+00 - val_mse: 0.3117\n",
            "Epoch 14/20\n",
            "\u001b[1m219/219\u001b[0m \u001b[32m━━━━━━━━━━━━━━━━━━━━\u001b[0m\u001b[37m\u001b[0m \u001b[1m7s\u001b[0m 27ms/step - loss: 0.0000e+00 - mse: 0.3075 - val_loss: 0.0000e+00 - val_mse: 0.3117\n",
            "Epoch 15/20\n",
            "\u001b[1m219/219\u001b[0m \u001b[32m━━━━━━━━━━━━━━━━━━━━\u001b[0m\u001b[37m\u001b[0m \u001b[1m9s\u001b[0m 23ms/step - loss: 0.0000e+00 - mse: 0.3055 - val_loss: 0.0000e+00 - val_mse: 0.3117\n",
            "Epoch 16/20\n",
            "\u001b[1m219/219\u001b[0m \u001b[32m━━━━━━━━━━━━━━━━━━━━\u001b[0m\u001b[37m\u001b[0m \u001b[1m5s\u001b[0m 24ms/step - loss: 0.0000e+00 - mse: 0.2950 - val_loss: 0.0000e+00 - val_mse: 0.3117\n",
            "Epoch 17/20\n",
            "\u001b[1m219/219\u001b[0m \u001b[32m━━━━━━━━━━━━━━━━━━━━\u001b[0m\u001b[37m\u001b[0m \u001b[1m4s\u001b[0m 20ms/step - loss: 0.0000e+00 - mse: 0.3036 - val_loss: 0.0000e+00 - val_mse: 0.3117\n",
            "Epoch 18/20\n",
            "\u001b[1m219/219\u001b[0m \u001b[32m━━━━━━━━━━━━━━━━━━━━\u001b[0m\u001b[37m\u001b[0m \u001b[1m8s\u001b[0m 36ms/step - loss: 0.0000e+00 - mse: 0.3085 - val_loss: 0.0000e+00 - val_mse: 0.3117\n",
            "Epoch 19/20\n",
            "\u001b[1m219/219\u001b[0m \u001b[32m━━━━━━━━━━━━━━━━━━━━\u001b[0m\u001b[37m\u001b[0m \u001b[1m7s\u001b[0m 20ms/step - loss: 0.0000e+00 - mse: 0.3079 - val_loss: 0.0000e+00 - val_mse: 0.3117\n",
            "Epoch 20/20\n",
            "\u001b[1m219/219\u001b[0m \u001b[32m━━━━━━━━━━━━━━━━━━━━\u001b[0m\u001b[37m\u001b[0m \u001b[1m6s\u001b[0m 27ms/step - loss: 0.0000e+00 - mse: 0.3064 - val_loss: 0.0000e+00 - val_mse: 0.3117\n"
          ]
        }
      ],
      "source": [
        "history=model.fit(X_train,y_train,epochs=20,\n",
        "                  validation_data=(X_valid,y_valid))"
      ]
    },
    {
      "cell_type": "code",
      "execution_count": null,
      "metadata": {
        "colab": {
          "base_uri": "https://localhost:8080/"
        },
        "id": "EM1nX1a5ARPe",
        "outputId": "0749d5fe-7144-4a78-e71c-ff72494a3858"
      },
      "outputs": [
        {
          "output_type": "stream",
          "name": "stdout",
          "text": [
            "\u001b[1m1/1\u001b[0m \u001b[32m━━━━━━━━━━━━━━━━━━━━\u001b[0m\u001b[37m\u001b[0m \u001b[1m0s\u001b[0m 42ms/step\n",
            "\u001b[1m1/1\u001b[0m \u001b[32m━━━━━━━━━━━━━━━━━━━━\u001b[0m\u001b[37m\u001b[0m \u001b[1m0s\u001b[0m 41ms/step\n",
            "\u001b[1m1/1\u001b[0m \u001b[32m━━━━━━━━━━━━━━━━━━━━\u001b[0m\u001b[37m\u001b[0m \u001b[1m0s\u001b[0m 24ms/step\n",
            "\u001b[1m1/1\u001b[0m \u001b[32m━━━━━━━━━━━━━━━━━━━━\u001b[0m\u001b[37m\u001b[0m \u001b[1m0s\u001b[0m 31ms/step\n",
            "\u001b[1m1/1\u001b[0m \u001b[32m━━━━━━━━━━━━━━━━━━━━\u001b[0m\u001b[37m\u001b[0m \u001b[1m0s\u001b[0m 37ms/step\n",
            "\u001b[1m1/1\u001b[0m \u001b[32m━━━━━━━━━━━━━━━━━━━━\u001b[0m\u001b[37m\u001b[0m \u001b[1m0s\u001b[0m 32ms/step\n",
            "\u001b[1m1/1\u001b[0m \u001b[32m━━━━━━━━━━━━━━━━━━━━\u001b[0m\u001b[37m\u001b[0m \u001b[1m0s\u001b[0m 39ms/step\n",
            "\u001b[1m1/1\u001b[0m \u001b[32m━━━━━━━━━━━━━━━━━━━━\u001b[0m\u001b[37m\u001b[0m \u001b[1m0s\u001b[0m 34ms/step\n",
            "\u001b[1m1/1\u001b[0m \u001b[32m━━━━━━━━━━━━━━━━━━━━\u001b[0m\u001b[37m\u001b[0m \u001b[1m0s\u001b[0m 46ms/step\n",
            "\u001b[1m1/1\u001b[0m \u001b[32m━━━━━━━━━━━━━━━━━━━━\u001b[0m\u001b[37m\u001b[0m \u001b[1m0s\u001b[0m 47ms/step\n"
          ]
        }
      ],
      "source": [
        "series = generate_time_series(1, n_steps + 10)\n",
        "X_new, y_new = series[:, :n_steps], series[:, n_steps:]\n",
        "X = X_new\n",
        "for step_ahead in range(10):\n",
        "    y_pred_one = model.predict(X[:, step_ahead:])[:, np.newaxis, :]\n",
        "    X = np.concatenate([X, y_pred_one], axis=1)\n",
        "\n",
        "Y_pred = X[:, n_steps:]"
      ]
    },
    {
      "cell_type": "code",
      "execution_count": null,
      "metadata": {
        "id": "XHoMMWfIJpPg"
      },
      "outputs": [],
      "source": [
        "series = generate_time_series(10000, n_steps + 10)\n",
        "X_train, y_train = series[:7000, :n_steps], series[:7000, -10:, 0]\n",
        "X_valid, y_valid = series[7000:9000, :n_steps], series[7000:9000, -10:, 0]\n",
        "X_test, y_test = series[9000:, :n_steps], series[9000:, -10:, 0]"
      ]
    },
    {
      "cell_type": "code",
      "execution_count": null,
      "metadata": {
        "id": "dxWDctR7KCtG"
      },
      "outputs": [],
      "source": [
        "model = keras.models.Sequential([\n",
        "    keras.layers.SimpleRNN(20, return_sequences=True, input_shape=[None, 1]),\n",
        "    keras.layers.SimpleRNN(20),\n",
        "    keras.layers.Dense(10)\n",
        "])"
      ]
    },
    {
      "cell_type": "code",
      "source": [
        "model.compile(loss=\"mse\", optimizer=\"Adam\")"
      ],
      "metadata": {
        "id": "EG8Sbrmjt7Vl"
      },
      "execution_count": null,
      "outputs": []
    },
    {
      "cell_type": "code",
      "source": [
        "history=model.fit(X_train,y_train,epochs=20,\n",
        "                  validation_data=(X_valid,y_valid))"
      ],
      "metadata": {
        "colab": {
          "base_uri": "https://localhost:8080/"
        },
        "id": "pJWbXrlSuBcF",
        "outputId": "af8718f1-33da-49b1-fc45-9e996ad16747"
      },
      "execution_count": null,
      "outputs": [
        {
          "output_type": "stream",
          "name": "stdout",
          "text": [
            "Epoch 1/20\n",
            "\u001b[1m219/219\u001b[0m \u001b[32m━━━━━━━━━━━━━━━━━━━━\u001b[0m\u001b[37m\u001b[0m \u001b[1m8s\u001b[0m 28ms/step - loss: 0.1256 - val_loss: 0.0354\n",
            "Epoch 2/20\n",
            "\u001b[1m219/219\u001b[0m \u001b[32m━━━━━━━━━━━━━━━━━━━━\u001b[0m\u001b[37m\u001b[0m \u001b[1m8s\u001b[0m 20ms/step - loss: 0.0315 - val_loss: 0.0244\n",
            "Epoch 3/20\n",
            "\u001b[1m219/219\u001b[0m \u001b[32m━━━━━━━━━━━━━━━━━━━━\u001b[0m\u001b[37m\u001b[0m \u001b[1m6s\u001b[0m 27ms/step - loss: 0.0211 - val_loss: 0.0160\n",
            "Epoch 4/20\n",
            "\u001b[1m219/219\u001b[0m \u001b[32m━━━━━━━━━━━━━━━━━━━━\u001b[0m\u001b[37m\u001b[0m \u001b[1m4s\u001b[0m 20ms/step - loss: 0.0156 - val_loss: 0.0132\n",
            "Epoch 5/20\n",
            "\u001b[1m219/219\u001b[0m \u001b[32m━━━━━━━━━━━━━━━━━━━━\u001b[0m\u001b[37m\u001b[0m \u001b[1m5s\u001b[0m 23ms/step - loss: 0.0140 - val_loss: 0.0122\n",
            "Epoch 6/20\n",
            "\u001b[1m219/219\u001b[0m \u001b[32m━━━━━━━━━━━━━━━━━━━━\u001b[0m\u001b[37m\u001b[0m \u001b[1m6s\u001b[0m 25ms/step - loss: 0.0128 - val_loss: 0.0117\n",
            "Epoch 7/20\n",
            "\u001b[1m219/219\u001b[0m \u001b[32m━━━━━━━━━━━━━━━━━━━━\u001b[0m\u001b[37m\u001b[0m \u001b[1m11s\u001b[0m 29ms/step - loss: 0.0119 - val_loss: 0.0110\n",
            "Epoch 8/20\n",
            "\u001b[1m219/219\u001b[0m \u001b[32m━━━━━━━━━━━━━━━━━━━━\u001b[0m\u001b[37m\u001b[0m \u001b[1m8s\u001b[0m 20ms/step - loss: 0.0113 - val_loss: 0.0122\n",
            "Epoch 9/20\n",
            "\u001b[1m219/219\u001b[0m \u001b[32m━━━━━━━━━━━━━━━━━━━━\u001b[0m\u001b[37m\u001b[0m \u001b[1m7s\u001b[0m 30ms/step - loss: 0.0122 - val_loss: 0.0125\n",
            "Epoch 10/20\n",
            "\u001b[1m219/219\u001b[0m \u001b[32m━━━━━━━━━━━━━━━━━━━━\u001b[0m\u001b[37m\u001b[0m \u001b[1m8s\u001b[0m 20ms/step - loss: 0.0113 - val_loss: 0.0109\n",
            "Epoch 11/20\n",
            "\u001b[1m219/219\u001b[0m \u001b[32m━━━━━━━━━━━━━━━━━━━━\u001b[0m\u001b[37m\u001b[0m \u001b[1m6s\u001b[0m 27ms/step - loss: 0.0105 - val_loss: 0.0135\n",
            "Epoch 12/20\n",
            "\u001b[1m219/219\u001b[0m \u001b[32m━━━━━━━━━━━━━━━━━━━━\u001b[0m\u001b[37m\u001b[0m \u001b[1m9s\u001b[0m 23ms/step - loss: 0.0107 - val_loss: 0.0092\n",
            "Epoch 13/20\n",
            "\u001b[1m219/219\u001b[0m \u001b[32m━━━━━━━━━━━━━━━━━━━━\u001b[0m\u001b[37m\u001b[0m \u001b[1m5s\u001b[0m 23ms/step - loss: 0.0103 - val_loss: 0.0140\n",
            "Epoch 14/20\n",
            "\u001b[1m219/219\u001b[0m \u001b[32m━━━━━━━━━━━━━━━━━━━━\u001b[0m\u001b[37m\u001b[0m \u001b[1m4s\u001b[0m 20ms/step - loss: 0.0106 - val_loss: 0.0097\n",
            "Epoch 15/20\n",
            "\u001b[1m219/219\u001b[0m \u001b[32m━━━━━━━━━━━━━━━━━━━━\u001b[0m\u001b[37m\u001b[0m \u001b[1m7s\u001b[0m 27ms/step - loss: 0.0101 - val_loss: 0.0096\n",
            "Epoch 16/20\n",
            "\u001b[1m219/219\u001b[0m \u001b[32m━━━━━━━━━━━━━━━━━━━━\u001b[0m\u001b[37m\u001b[0m \u001b[1m9s\u001b[0m 20ms/step - loss: 0.0098 - val_loss: 0.0099\n",
            "Epoch 17/20\n",
            "\u001b[1m219/219\u001b[0m \u001b[32m━━━━━━━━━━━━━━━━━━━━\u001b[0m\u001b[37m\u001b[0m \u001b[1m7s\u001b[0m 27ms/step - loss: 0.0094 - val_loss: 0.0096\n",
            "Epoch 18/20\n",
            "\u001b[1m219/219\u001b[0m \u001b[32m━━━━━━━━━━━━━━━━━━━━\u001b[0m\u001b[37m\u001b[0m \u001b[1m4s\u001b[0m 20ms/step - loss: 0.0095 - val_loss: 0.0091\n",
            "Epoch 19/20\n",
            "\u001b[1m219/219\u001b[0m \u001b[32m━━━━━━━━━━━━━━━━━━━━\u001b[0m\u001b[37m\u001b[0m \u001b[1m6s\u001b[0m 25ms/step - loss: 0.0096 - val_loss: 0.0099\n",
            "Epoch 20/20\n",
            "\u001b[1m219/219\u001b[0m \u001b[32m━━━━━━━━━━━━━━━━━━━━\u001b[0m\u001b[37m\u001b[0m \u001b[1m9s\u001b[0m 20ms/step - loss: 0.0093 - val_loss: 0.0108\n"
          ]
        }
      ]
    },
    {
      "cell_type": "code",
      "execution_count": null,
      "metadata": {
        "colab": {
          "base_uri": "https://localhost:8080/"
        },
        "id": "2T2okZnsKJM3",
        "outputId": "9559bae6-05ff-4b07-a3fb-e2029c8b750e"
      },
      "outputs": [
        {
          "output_type": "stream",
          "name": "stdout",
          "text": [
            "\u001b[1m1/1\u001b[0m \u001b[32m━━━━━━━━━━━━━━━━━━━━\u001b[0m\u001b[37m\u001b[0m \u001b[1m0s\u001b[0m 211ms/step\n"
          ]
        }
      ],
      "source": [
        "y_pred = model.predict(X_new)"
      ]
    },
    {
      "cell_type": "code",
      "execution_count": null,
      "metadata": {
        "id": "0E6V-jF6KNkY"
      },
      "outputs": [],
      "source": [
        "y = np.empty((10000, n_steps, 10))\n",
        "for step_ahead in range(1, 10 + 1):\n",
        "    y[:, :, step_ahead - 1] = series[:, step_ahead:step_ahead + n_steps, 0]\n",
        "y_train = y[:7000]\n",
        "y_valid = y[7000:9000]\n",
        "y_test = y[9000:]"
      ]
    },
    {
      "cell_type": "code",
      "execution_count": null,
      "metadata": {
        "colab": {
          "base_uri": "https://localhost:8080/"
        },
        "id": "si-DDOQPKc6D",
        "outputId": "5a75af20-b1b3-45b6-d626-6b2fb898eb82"
      },
      "outputs": [
        {
          "output_type": "stream",
          "name": "stderr",
          "text": [
            "/usr/local/lib/python3.10/dist-packages/keras/src/layers/rnn/rnn.py:204: UserWarning: Do not pass an `input_shape`/`input_dim` argument to a layer. When using Sequential models, prefer using an `Input(shape)` object as the first layer in the model instead.\n",
            "  super().__init__(**kwargs)\n"
          ]
        }
      ],
      "source": [
        "model = keras.models.Sequential([\n",
        "    keras.layers.SimpleRNN(20, return_sequences=True, input_shape=[None, 1]),\n",
        "    keras.layers.SimpleRNN(20, return_sequences=True),\n",
        "    keras.layers.TimeDistributed(keras.layers.Dense(10))\n",
        "])"
      ]
    },
    {
      "cell_type": "code",
      "source": [
        "model.compile(loss=\"mse\", optimizer=\"Adam\")"
      ],
      "metadata": {
        "id": "dEHzEtu8wYGX"
      },
      "execution_count": null,
      "outputs": []
    },
    {
      "cell_type": "code",
      "source": [
        "history=model.fit(X_train,y_train,epochs=20,\n",
        "                  validation_data=(X_valid,y_valid))"
      ],
      "metadata": {
        "colab": {
          "base_uri": "https://localhost:8080/"
        },
        "id": "njUnV45Twa1u",
        "outputId": "62219abc-fb06-4f19-fbaa-02c9ff7e41c6"
      },
      "execution_count": null,
      "outputs": [
        {
          "output_type": "stream",
          "name": "stdout",
          "text": [
            "Epoch 1/20\n",
            "\u001b[1m219/219\u001b[0m \u001b[32m━━━━━━━━━━━━━━━━━━━━\u001b[0m\u001b[37m\u001b[0m \u001b[1m11s\u001b[0m 28ms/step - loss: 0.1135 - val_loss: 0.0452\n",
            "Epoch 2/20\n",
            "\u001b[1m219/219\u001b[0m \u001b[32m━━━━━━━━━━━━━━━━━━━━\u001b[0m\u001b[37m\u001b[0m \u001b[1m10s\u001b[0m 27ms/step - loss: 0.0433 - val_loss: 0.0413\n",
            "Epoch 3/20\n",
            "\u001b[1m219/219\u001b[0m \u001b[32m━━━━━━━━━━━━━━━━━━━━\u001b[0m\u001b[37m\u001b[0m \u001b[1m5s\u001b[0m 24ms/step - loss: 0.0400 - val_loss: 0.0384\n",
            "Epoch 4/20\n",
            "\u001b[1m219/219\u001b[0m \u001b[32m━━━━━━━━━━━━━━━━━━━━\u001b[0m\u001b[37m\u001b[0m \u001b[1m10s\u001b[0m 24ms/step - loss: 0.0380 - val_loss: 0.0372\n",
            "Epoch 5/20\n",
            "\u001b[1m219/219\u001b[0m \u001b[32m━━━━━━━━━━━━━━━━━━━━\u001b[0m\u001b[37m\u001b[0m \u001b[1m10s\u001b[0m 24ms/step - loss: 0.0368 - val_loss: 0.0363\n",
            "Epoch 6/20\n",
            "\u001b[1m219/219\u001b[0m \u001b[32m━━━━━━━━━━━━━━━━━━━━\u001b[0m\u001b[37m\u001b[0m \u001b[1m10s\u001b[0m 25ms/step - loss: 0.0354 - val_loss: 0.0361\n",
            "Epoch 7/20\n",
            "\u001b[1m219/219\u001b[0m \u001b[32m━━━━━━━━━━━━━━━━━━━━\u001b[0m\u001b[37m\u001b[0m \u001b[1m12s\u001b[0m 31ms/step - loss: 0.0352 - val_loss: 0.0341\n",
            "Epoch 8/20\n",
            "\u001b[1m219/219\u001b[0m \u001b[32m━━━━━━━━━━━━━━━━━━━━\u001b[0m\u001b[37m\u001b[0m \u001b[1m10s\u001b[0m 30ms/step - loss: 0.0340 - val_loss: 0.0334\n",
            "Epoch 9/20\n",
            "\u001b[1m219/219\u001b[0m \u001b[32m━━━━━━━━━━━━━━━━━━━━\u001b[0m\u001b[37m\u001b[0m \u001b[1m6s\u001b[0m 26ms/step - loss: 0.0336 - val_loss: 0.0332\n",
            "Epoch 10/20\n",
            "\u001b[1m219/219\u001b[0m \u001b[32m━━━━━━━━━━━━━━━━━━━━\u001b[0m\u001b[37m\u001b[0m \u001b[1m6s\u001b[0m 25ms/step - loss: 0.0331 - val_loss: 0.0324\n",
            "Epoch 11/20\n",
            "\u001b[1m219/219\u001b[0m \u001b[32m━━━━━━━━━━━━━━━━━━━━\u001b[0m\u001b[37m\u001b[0m \u001b[1m10s\u001b[0m 24ms/step - loss: 0.0323 - val_loss: 0.0321\n",
            "Epoch 12/20\n",
            "\u001b[1m219/219\u001b[0m \u001b[32m━━━━━━━━━━━━━━━━━━━━\u001b[0m\u001b[37m\u001b[0m \u001b[1m10s\u001b[0m 24ms/step - loss: 0.0317 - val_loss: 0.0316\n",
            "Epoch 13/20\n",
            "\u001b[1m219/219\u001b[0m \u001b[32m━━━━━━━━━━━━━━━━━━━━\u001b[0m\u001b[37m\u001b[0m \u001b[1m10s\u001b[0m 24ms/step - loss: 0.0312 - val_loss: 0.0309\n",
            "Epoch 14/20\n",
            "\u001b[1m219/219\u001b[0m \u001b[32m━━━━━━━━━━━━━━━━━━━━\u001b[0m\u001b[37m\u001b[0m \u001b[1m11s\u001b[0m 30ms/step - loss: 0.0307 - val_loss: 0.0304\n",
            "Epoch 15/20\n",
            "\u001b[1m219/219\u001b[0m \u001b[32m━━━━━━━━━━━━━━━━━━━━\u001b[0m\u001b[37m\u001b[0m \u001b[1m10s\u001b[0m 31ms/step - loss: 0.0300 - val_loss: 0.0301\n",
            "Epoch 16/20\n",
            "\u001b[1m219/219\u001b[0m \u001b[32m━━━━━━━━━━━━━━━━━━━━\u001b[0m\u001b[37m\u001b[0m \u001b[1m5s\u001b[0m 24ms/step - loss: 0.0299 - val_loss: 0.0297\n",
            "Epoch 17/20\n",
            "\u001b[1m219/219\u001b[0m \u001b[32m━━━━━━━━━━━━━━━━━━━━\u001b[0m\u001b[37m\u001b[0m \u001b[1m6s\u001b[0m 29ms/step - loss: 0.0295 - val_loss: 0.0297\n",
            "Epoch 18/20\n",
            "\u001b[1m219/219\u001b[0m \u001b[32m━━━━━━━━━━━━━━━━━━━━\u001b[0m\u001b[37m\u001b[0m \u001b[1m9s\u001b[0m 24ms/step - loss: 0.0293 - val_loss: 0.0294\n",
            "Epoch 19/20\n",
            "\u001b[1m219/219\u001b[0m \u001b[32m━━━━━━━━━━━━━━━━━━━━\u001b[0m\u001b[37m\u001b[0m \u001b[1m7s\u001b[0m 31ms/step - loss: 0.0289 - val_loss: 0.0289\n",
            "Epoch 20/20\n",
            "\u001b[1m219/219\u001b[0m \u001b[32m━━━━━━━━━━━━━━━━━━━━\u001b[0m\u001b[37m\u001b[0m \u001b[1m9s\u001b[0m 25ms/step - loss: 0.0283 - val_loss: 0.0280\n"
          ]
        }
      ]
    },
    {
      "cell_type": "code",
      "execution_count": null,
      "metadata": {
        "id": "HjF3pfeKKlkR"
      },
      "outputs": [],
      "source": [
        "def last_time_step_mse(Y_true, Y_pred):\n",
        "    return keras.losses.MeanSquaredError()(Y_true[:, -1], Y_pred[:, -1])\n",
        "\n",
        "optimizer = keras.optimizers.Adam(learning_rate=0.01)\n",
        "model.compile(loss=\"mse\", optimizer=optimizer, metrics=[last_time_step_mse])"
      ]
    },
    {
      "cell_type": "code",
      "source": [
        "history=model.fit(X_train,y_train,epochs=20,\n",
        "                  validation_data=(X_valid,y_valid))"
      ],
      "metadata": {
        "colab": {
          "base_uri": "https://localhost:8080/"
        },
        "id": "AJNmz7zaypmW",
        "outputId": "d450ad6d-5eb6-48e8-9a9a-374e41dfdc99"
      },
      "execution_count": null,
      "outputs": [
        {
          "output_type": "stream",
          "name": "stdout",
          "text": [
            "Epoch 1/20\n",
            "\u001b[1m219/219\u001b[0m \u001b[32m━━━━━━━━━━━━━━━━━━━━\u001b[0m\u001b[37m\u001b[0m \u001b[1m11s\u001b[0m 28ms/step - last_time_step_mse: 0.0498 - loss: 0.0532 - val_last_time_step_mse: 0.0278 - val_loss: 0.0370\n",
            "Epoch 2/20\n",
            "\u001b[1m219/219\u001b[0m \u001b[32m━━━━━━━━━━━━━━━━━━━━\u001b[0m\u001b[37m\u001b[0m \u001b[1m7s\u001b[0m 33ms/step - last_time_step_mse: 0.0217 - loss: 0.0324 - val_last_time_step_mse: 0.0167 - val_loss: 0.0287\n",
            "Epoch 3/20\n",
            "\u001b[1m219/219\u001b[0m \u001b[32m━━━━━━━━━━━━━━━━━━━━\u001b[0m\u001b[37m\u001b[0m \u001b[1m9s\u001b[0m 25ms/step - last_time_step_mse: 0.0170 - loss: 0.0284 - val_last_time_step_mse: 0.0165 - val_loss: 0.0284\n",
            "Epoch 4/20\n",
            "\u001b[1m219/219\u001b[0m \u001b[32m━━━━━━━━━━━━━━━━━━━━\u001b[0m\u001b[37m\u001b[0m \u001b[1m10s\u001b[0m 24ms/step - last_time_step_mse: 0.0163 - loss: 0.0273 - val_last_time_step_mse: 0.0141 - val_loss: 0.0266\n",
            "Epoch 5/20\n",
            "\u001b[1m219/219\u001b[0m \u001b[32m━━━━━━━━━━━━━━━━━━━━\u001b[0m\u001b[37m\u001b[0m \u001b[1m10s\u001b[0m 25ms/step - last_time_step_mse: 0.0150 - loss: 0.0259 - val_last_time_step_mse: 0.0142 - val_loss: 0.0253\n",
            "Epoch 6/20\n",
            "\u001b[1m219/219\u001b[0m \u001b[32m━━━━━━━━━━━━━━━━━━━━\u001b[0m\u001b[37m\u001b[0m \u001b[1m7s\u001b[0m 31ms/step - last_time_step_mse: 0.0136 - loss: 0.0247 - val_last_time_step_mse: 0.0111 - val_loss: 0.0231\n",
            "Epoch 7/20\n",
            "\u001b[1m219/219\u001b[0m \u001b[32m━━━━━━━━━━━━━━━━━━━━\u001b[0m\u001b[37m\u001b[0m \u001b[1m5s\u001b[0m 25ms/step - last_time_step_mse: 0.0120 - loss: 0.0229 - val_last_time_step_mse: 0.0093 - val_loss: 0.0219\n",
            "Epoch 8/20\n",
            "\u001b[1m219/219\u001b[0m \u001b[32m━━━━━━━━━━━━━━━━━━━━\u001b[0m\u001b[37m\u001b[0m \u001b[1m11s\u001b[0m 30ms/step - last_time_step_mse: 0.0110 - loss: 0.0223 - val_last_time_step_mse: 0.0081 - val_loss: 0.0203\n",
            "Epoch 9/20\n",
            "\u001b[1m219/219\u001b[0m \u001b[32m━━━━━━━━━━━━━━━━━━━━\u001b[0m\u001b[37m\u001b[0m \u001b[1m5s\u001b[0m 24ms/step - last_time_step_mse: 0.0090 - loss: 0.0204 - val_last_time_step_mse: 0.0093 - val_loss: 0.0209\n",
            "Epoch 10/20\n",
            "\u001b[1m219/219\u001b[0m \u001b[32m━━━━━━━━━━━━━━━━━━━━\u001b[0m\u001b[37m\u001b[0m \u001b[1m7s\u001b[0m 32ms/step - last_time_step_mse: 0.0087 - loss: 0.0203 - val_last_time_step_mse: 0.0077 - val_loss: 0.0203\n",
            "Epoch 11/20\n",
            "\u001b[1m219/219\u001b[0m \u001b[32m━━━━━━━━━━━━━━━━━━━━\u001b[0m\u001b[37m\u001b[0m \u001b[1m5s\u001b[0m 25ms/step - last_time_step_mse: 0.0078 - loss: 0.0194 - val_last_time_step_mse: 0.0072 - val_loss: 0.0195\n",
            "Epoch 12/20\n",
            "\u001b[1m219/219\u001b[0m \u001b[32m━━━━━━━━━━━━━━━━━━━━\u001b[0m\u001b[37m\u001b[0m \u001b[1m10s\u001b[0m 25ms/step - last_time_step_mse: 0.0078 - loss: 0.0195 - val_last_time_step_mse: 0.0095 - val_loss: 0.0213\n",
            "Epoch 13/20\n",
            "\u001b[1m219/219\u001b[0m \u001b[32m━━━━━━━━━━━━━━━━━━━━\u001b[0m\u001b[37m\u001b[0m \u001b[1m11s\u001b[0m 28ms/step - last_time_step_mse: 0.0084 - loss: 0.0199 - val_last_time_step_mse: 0.0061 - val_loss: 0.0186\n",
            "Epoch 14/20\n",
            "\u001b[1m219/219\u001b[0m \u001b[32m━━━━━━━━━━━━━━━━━━━━\u001b[0m\u001b[37m\u001b[0m \u001b[1m6s\u001b[0m 25ms/step - last_time_step_mse: 0.0079 - loss: 0.0192 - val_last_time_step_mse: 0.0088 - val_loss: 0.0209\n",
            "Epoch 15/20\n",
            "\u001b[1m219/219\u001b[0m \u001b[32m━━━━━━━━━━━━━━━━━━━━\u001b[0m\u001b[37m\u001b[0m \u001b[1m10s\u001b[0m 25ms/step - last_time_step_mse: 0.0085 - loss: 0.0194 - val_last_time_step_mse: 0.0077 - val_loss: 0.0192\n",
            "Epoch 16/20\n",
            "\u001b[1m219/219\u001b[0m \u001b[32m━━━━━━━━━━━━━━━━━━━━\u001b[0m\u001b[37m\u001b[0m \u001b[1m7s\u001b[0m 32ms/step - last_time_step_mse: 0.0065 - loss: 0.0183 - val_last_time_step_mse: 0.0075 - val_loss: 0.0201\n",
            "Epoch 17/20\n",
            "\u001b[1m219/219\u001b[0m \u001b[32m━━━━━━━━━━━━━━━━━━━━\u001b[0m\u001b[37m\u001b[0m \u001b[1m9s\u001b[0m 25ms/step - last_time_step_mse: 0.0070 - loss: 0.0182 - val_last_time_step_mse: 0.0071 - val_loss: 0.0187\n",
            "Epoch 18/20\n",
            "\u001b[1m219/219\u001b[0m \u001b[32m━━━━━━━━━━━━━━━━━━━━\u001b[0m\u001b[37m\u001b[0m \u001b[1m7s\u001b[0m 31ms/step - last_time_step_mse: 0.0069 - loss: 0.0184 - val_last_time_step_mse: 0.0064 - val_loss: 0.0188\n",
            "Epoch 19/20\n",
            "\u001b[1m219/219\u001b[0m \u001b[32m━━━━━━━━━━━━━━━━━━━━\u001b[0m\u001b[37m\u001b[0m \u001b[1m5s\u001b[0m 25ms/step - last_time_step_mse: 0.0073 - loss: 0.0185 - val_last_time_step_mse: 0.0074 - val_loss: 0.0190\n",
            "Epoch 20/20\n",
            "\u001b[1m219/219\u001b[0m \u001b[32m━━━━━━━━━━━━━━━━━━━━\u001b[0m\u001b[37m\u001b[0m \u001b[1m7s\u001b[0m 32ms/step - last_time_step_mse: 0.0066 - loss: 0.0177 - val_last_time_step_mse: 0.0069 - val_loss: 0.0188\n"
          ]
        }
      ]
    },
    {
      "cell_type": "code",
      "source": [
        "model = keras.models.Sequential([\n",
        "    keras.layers.LSTM(20, return_sequences = True, input_shape = [None, 1]),\n",
        "    keras.layers.LSTM(20, return_sequences = True),\n",
        "    keras.layers.TimeDistributed(keras.layers.Dense(10))\n",
        "])"
      ],
      "metadata": {
        "colab": {
          "base_uri": "https://localhost:8080/"
        },
        "id": "k7RufF-v0dSx",
        "outputId": "1a098c59-e833-42a4-f0e1-9d709964d80e"
      },
      "execution_count": null,
      "outputs": [
        {
          "output_type": "stream",
          "name": "stderr",
          "text": [
            "/usr/local/lib/python3.10/dist-packages/keras/src/layers/rnn/rnn.py:204: UserWarning: Do not pass an `input_shape`/`input_dim` argument to a layer. When using Sequential models, prefer using an `Input(shape)` object as the first layer in the model instead.\n",
            "  super().__init__(**kwargs)\n"
          ]
        }
      ]
    },
    {
      "cell_type": "code",
      "source": [
        "def last_time_step_mse(Y_true, Y_pred):\n",
        "    return keras.losses.MeanSquaredError()(Y_true[:, -1], Y_pred[:, -1])\n",
        "\n",
        "optimizer = keras.optimizers.Adam(learning_rate=0.01)\n",
        "model.compile(loss=\"mse\", optimizer=optimizer, metrics=[last_time_step_mse])"
      ],
      "metadata": {
        "id": "-jabJjNJ1SEh"
      },
      "execution_count": null,
      "outputs": []
    },
    {
      "cell_type": "code",
      "source": [
        "history=model.fit(X_train,y_train,epochs=20,\n",
        "                  validation_data=(X_valid,y_valid))"
      ],
      "metadata": {
        "colab": {
          "base_uri": "https://localhost:8080/"
        },
        "id": "PDvLM6Is1Wri",
        "outputId": "fe617a82-a84e-4cc5-e31f-e64a187e5b2b"
      },
      "execution_count": null,
      "outputs": [
        {
          "output_type": "stream",
          "name": "stdout",
          "text": [
            "Epoch 1/20\n",
            "\u001b[1m219/219\u001b[0m \u001b[32m━━━━━━━━━━━━━━━━━━━━\u001b[0m\u001b[37m\u001b[0m \u001b[1m18s\u001b[0m 48ms/step - last_time_step_mse: 0.0510 - loss: 0.0637 - val_last_time_step_mse: 0.0125 - val_loss: 0.0284\n",
            "Epoch 2/20\n",
            "\u001b[1m219/219\u001b[0m \u001b[32m━━━━━━━━━━━━━━━━━━━━\u001b[0m\u001b[37m\u001b[0m \u001b[1m11s\u001b[0m 48ms/step - last_time_step_mse: 0.0118 - loss: 0.0267 - val_last_time_step_mse: 0.0074 - val_loss: 0.0225\n",
            "Epoch 3/20\n",
            "\u001b[1m219/219\u001b[0m \u001b[32m━━━━━━━━━━━━━━━━━━━━\u001b[0m\u001b[37m\u001b[0m \u001b[1m20s\u001b[0m 46ms/step - last_time_step_mse: 0.0065 - loss: 0.0212 - val_last_time_step_mse: 0.0046 - val_loss: 0.0187\n",
            "Epoch 4/20\n",
            "\u001b[1m219/219\u001b[0m \u001b[32m━━━━━━━━━━━━━━━━━━━━\u001b[0m\u001b[37m\u001b[0m \u001b[1m10s\u001b[0m 46ms/step - last_time_step_mse: 0.0049 - loss: 0.0184 - val_last_time_step_mse: 0.0057 - val_loss: 0.0186\n",
            "Epoch 5/20\n",
            "\u001b[1m219/219\u001b[0m \u001b[32m━━━━━━━━━━━━━━━━━━━━\u001b[0m\u001b[37m\u001b[0m \u001b[1m9s\u001b[0m 42ms/step - last_time_step_mse: 0.0046 - loss: 0.0173 - val_last_time_step_mse: 0.0041 - val_loss: 0.0170\n",
            "Epoch 6/20\n",
            "\u001b[1m219/219\u001b[0m \u001b[32m━━━━━━━━━━━━━━━━━━━━\u001b[0m\u001b[37m\u001b[0m \u001b[1m10s\u001b[0m 39ms/step - last_time_step_mse: 0.0040 - loss: 0.0164 - val_last_time_step_mse: 0.0038 - val_loss: 0.0163\n",
            "Epoch 7/20\n",
            "\u001b[1m219/219\u001b[0m \u001b[32m━━━━━━━━━━━━━━━━━━━━\u001b[0m\u001b[37m\u001b[0m \u001b[1m11s\u001b[0m 45ms/step - last_time_step_mse: 0.0040 - loss: 0.0161 - val_last_time_step_mse: 0.0040 - val_loss: 0.0160\n",
            "Epoch 8/20\n",
            "\u001b[1m219/219\u001b[0m \u001b[32m━━━━━━━━━━━━━━━━━━━━\u001b[0m\u001b[37m\u001b[0m \u001b[1m10s\u001b[0m 46ms/step - last_time_step_mse: 0.0036 - loss: 0.0154 - val_last_time_step_mse: 0.0035 - val_loss: 0.0156\n",
            "Epoch 9/20\n",
            "\u001b[1m219/219\u001b[0m \u001b[32m━━━━━━━━━━━━━━━━━━━━\u001b[0m\u001b[37m\u001b[0m \u001b[1m10s\u001b[0m 45ms/step - last_time_step_mse: 0.0038 - loss: 0.0154 - val_last_time_step_mse: 0.0032 - val_loss: 0.0156\n",
            "Epoch 10/20\n",
            "\u001b[1m219/219\u001b[0m \u001b[32m━━━━━━━━━━━━━━━━━━━━\u001b[0m\u001b[37m\u001b[0m \u001b[1m9s\u001b[0m 39ms/step - last_time_step_mse: 0.0037 - loss: 0.0152 - val_last_time_step_mse: 0.0031 - val_loss: 0.0150\n",
            "Epoch 11/20\n",
            "\u001b[1m219/219\u001b[0m \u001b[32m━━━━━━━━━━━━━━━━━━━━\u001b[0m\u001b[37m\u001b[0m \u001b[1m10s\u001b[0m 46ms/step - last_time_step_mse: 0.0034 - loss: 0.0146 - val_last_time_step_mse: 0.0030 - val_loss: 0.0147\n",
            "Epoch 12/20\n",
            "\u001b[1m219/219\u001b[0m \u001b[32m━━━━━━━━━━━━━━━━━━━━\u001b[0m\u001b[37m\u001b[0m \u001b[1m10s\u001b[0m 46ms/step - last_time_step_mse: 0.0032 - loss: 0.0143 - val_last_time_step_mse: 0.0029 - val_loss: 0.0147\n",
            "Epoch 13/20\n",
            "\u001b[1m219/219\u001b[0m \u001b[32m━━━━━━━━━━━━━━━━━━━━\u001b[0m\u001b[37m\u001b[0m \u001b[1m9s\u001b[0m 40ms/step - last_time_step_mse: 0.0031 - loss: 0.0142 - val_last_time_step_mse: 0.0030 - val_loss: 0.0145\n",
            "Epoch 14/20\n",
            "\u001b[1m219/219\u001b[0m \u001b[32m━━━━━━━━━━━━━━━━━━━━\u001b[0m\u001b[37m\u001b[0m \u001b[1m10s\u001b[0m 45ms/step - last_time_step_mse: 0.0031 - loss: 0.0138 - val_last_time_step_mse: 0.0032 - val_loss: 0.0142\n",
            "Epoch 15/20\n",
            "\u001b[1m219/219\u001b[0m \u001b[32m━━━━━━━━━━━━━━━━━━━━\u001b[0m\u001b[37m\u001b[0m \u001b[1m10s\u001b[0m 47ms/step - last_time_step_mse: 0.0030 - loss: 0.0139 - val_last_time_step_mse: 0.0032 - val_loss: 0.0145\n",
            "Epoch 16/20\n",
            "\u001b[1m219/219\u001b[0m \u001b[32m━━━━━━━━━━━━━━━━━━━━\u001b[0m\u001b[37m\u001b[0m \u001b[1m9s\u001b[0m 43ms/step - last_time_step_mse: 0.0030 - loss: 0.0136 - val_last_time_step_mse: 0.0027 - val_loss: 0.0137\n",
            "Epoch 17/20\n",
            "\u001b[1m219/219\u001b[0m \u001b[32m━━━━━━━━━━━━━━━━━━━━\u001b[0m\u001b[37m\u001b[0m \u001b[1m9s\u001b[0m 41ms/step - last_time_step_mse: 0.0029 - loss: 0.0135 - val_last_time_step_mse: 0.0031 - val_loss: 0.0140\n",
            "Epoch 18/20\n",
            "\u001b[1m219/219\u001b[0m \u001b[32m━━━━━━━━━━━━━━━━━━━━\u001b[0m\u001b[37m\u001b[0m \u001b[1m11s\u001b[0m 45ms/step - last_time_step_mse: 0.0029 - loss: 0.0134 - val_last_time_step_mse: 0.0028 - val_loss: 0.0137\n",
            "Epoch 19/20\n",
            "\u001b[1m219/219\u001b[0m \u001b[32m━━━━━━━━━━━━━━━━━━━━\u001b[0m\u001b[37m\u001b[0m \u001b[1m10s\u001b[0m 45ms/step - last_time_step_mse: 0.0029 - loss: 0.0133 - val_last_time_step_mse: 0.0026 - val_loss: 0.0135\n",
            "Epoch 20/20\n",
            "\u001b[1m219/219\u001b[0m \u001b[32m━━━━━━━━━━━━━━━━━━━━\u001b[0m\u001b[37m\u001b[0m \u001b[1m9s\u001b[0m 42ms/step - last_time_step_mse: 0.0028 - loss: 0.0132 - val_last_time_step_mse: 0.0025 - val_loss: 0.0142\n"
          ]
        }
      ]
    },
    {
      "cell_type": "code",
      "source": [],
      "metadata": {
        "id": "nx2p8Wel2uuE"
      },
      "execution_count": null,
      "outputs": []
    }
  ],
  "metadata": {
    "colab": {
      "provenance": [],
      "authorship_tag": "ABX9TyNZz2JPQdKNTpkYgYvrbgAx",
      "include_colab_link": true
    },
    "kernelspec": {
      "display_name": "Python 3",
      "name": "python3"
    },
    "language_info": {
      "name": "python"
    }
  },
  "nbformat": 4,
  "nbformat_minor": 0
}